{
 "cells": [
  {
   "cell_type": "code",
   "execution_count": 2,
   "metadata": {},
   "outputs": [],
   "source": [
    "def remove_duplicate_lines(input_file, output_file,num_items=123628):\n",
    "    with open(input_file, 'r', encoding='utf-8') as infile, open(output_file, 'w', encoding='utf-8') as outfile:\n",
    "        for line in infile:\n",
    "            elements = line.strip().split()\n",
    "            if len(elements) == 3 and elements[0] != elements[1]:\n",
    "                outfile.write(line)\n",
    "                \n",
    "                # 添加每个item与自己的交互\n",
    "        for item in range(num_items):\n",
    "            outfile.write(f\"{item} {item} 3\\n\")  # item与自己的交互，值为1\n",
    "\n",
    "\n",
    "# 示例调用\n",
    "input_file = './datasets/cold/NetEase/item_item.txt'\n",
    "output_file = 'II_matrix_all.txt'\n",
    "remove_duplicate_lines(input_file, output_file)"
   ]
  }
 ],
 "metadata": {
  "kernelspec": {
   "display_name": "base",
   "language": "python",
   "name": "python3"
  },
  "language_info": {
   "codemirror_mode": {
    "name": "ipython",
    "version": 3
   },
   "file_extension": ".py",
   "mimetype": "text/x-python",
   "name": "python",
   "nbconvert_exporter": "python",
   "pygments_lexer": "ipython3",
   "version": "3.10.8"
  }
 },
 "nbformat": 4,
 "nbformat_minor": 2
}
